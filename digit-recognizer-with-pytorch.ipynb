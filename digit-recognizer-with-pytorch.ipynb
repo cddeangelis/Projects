{
 "cells": [
  {
   "cell_type": "code",
   "execution_count": 1,
   "id": "fd62f8d7",
   "metadata": {
    "execution": {
     "iopub.execute_input": "2023-01-29T23:50:22.817846Z",
     "iopub.status.busy": "2023-01-29T23:50:22.817115Z",
     "iopub.status.idle": "2023-01-29T23:50:24.421229Z",
     "shell.execute_reply": "2023-01-29T23:50:24.420299Z"
    },
    "papermill": {
     "duration": 1.612559,
     "end_time": "2023-01-29T23:50:24.423849",
     "exception": false,
     "start_time": "2023-01-29T23:50:22.811290",
     "status": "completed"
    },
    "tags": []
   },
   "outputs": [],
   "source": [
    "import torch\n",
    "import pandas as pd\n",
    "from torch import nn, optim\n",
    "import torch.nn.functional as F"
   ]
  },
  {
   "cell_type": "markdown",
   "id": "29716a6d",
   "metadata": {
    "papermill": {
     "duration": 0.003209,
     "end_time": "2023-01-29T23:50:24.430923",
     "exception": false,
     "start_time": "2023-01-29T23:50:24.427714",
     "status": "completed"
    },
    "tags": []
   },
   "source": [
    "# Digit Recognizer\n",
    "\n",
    "This is a work in progress, I will soon add prose explaining my approach. The code and model is complete, although can be improved."
   ]
  },
  {
   "cell_type": "code",
   "execution_count": 2,
   "id": "dd3c9ae4",
   "metadata": {
    "execution": {
     "iopub.execute_input": "2023-01-29T23:50:24.439855Z",
     "iopub.status.busy": "2023-01-29T23:50:24.438474Z",
     "iopub.status.idle": "2023-01-29T23:50:24.632658Z",
     "shell.execute_reply": "2023-01-29T23:50:24.631807Z"
    },
    "papermill": {
     "duration": 0.200463,
     "end_time": "2023-01-29T23:50:24.634707",
     "exception": false,
     "start_time": "2023-01-29T23:50:24.434244",
     "status": "completed"
    },
    "tags": []
   },
   "outputs": [],
   "source": [
    "import torchvision.transforms as transforms\n",
    "\n",
    "transform = transforms.Compose(\n",
    "            [transforms.ToTensor(),\n",
    "            transforms.Normalize((0.5),(0.5))])"
   ]
  },
  {
   "cell_type": "code",
   "execution_count": 3,
   "id": "13ce4fc5",
   "metadata": {
    "execution": {
     "iopub.execute_input": "2023-01-29T23:50:24.643814Z",
     "iopub.status.busy": "2023-01-29T23:50:24.642390Z",
     "iopub.status.idle": "2023-01-29T23:50:24.647790Z",
     "shell.execute_reply": "2023-01-29T23:50:24.646958Z"
    },
    "papermill": {
     "duration": 0.011276,
     "end_time": "2023-01-29T23:50:24.649523",
     "exception": false,
     "start_time": "2023-01-29T23:50:24.638247",
     "status": "completed"
    },
    "tags": []
   },
   "outputs": [],
   "source": [
    "device = torch.device(\"cuda\")"
   ]
  },
  {
   "cell_type": "code",
   "execution_count": 4,
   "id": "50e6bc94",
   "metadata": {
    "execution": {
     "iopub.execute_input": "2023-01-29T23:50:24.657960Z",
     "iopub.status.busy": "2023-01-29T23:50:24.657154Z",
     "iopub.status.idle": "2023-01-29T23:50:27.814964Z",
     "shell.execute_reply": "2023-01-29T23:50:27.813975Z"
    },
    "papermill": {
     "duration": 3.164557,
     "end_time": "2023-01-29T23:50:27.817332",
     "exception": false,
     "start_time": "2023-01-29T23:50:24.652775",
     "status": "completed"
    },
    "tags": []
   },
   "outputs": [],
   "source": [
    "train = pd.read_csv(\"/kaggle/input/digit-recognizer/train.csv\")\n",
    "\n",
    "X = train.iloc[:,1:].values.astype('float32').reshape(-1,28,28)\n",
    "y = train.iloc[:,0]"
   ]
  },
  {
   "cell_type": "code",
   "execution_count": 5,
   "id": "ea76c2c6",
   "metadata": {
    "execution": {
     "iopub.execute_input": "2023-01-29T23:50:27.828579Z",
     "iopub.status.busy": "2023-01-29T23:50:27.827953Z",
     "iopub.status.idle": "2023-01-29T23:50:27.835082Z",
     "shell.execute_reply": "2023-01-29T23:50:27.834067Z"
    },
    "papermill": {
     "duration": 0.013972,
     "end_time": "2023-01-29T23:50:27.837364",
     "exception": false,
     "start_time": "2023-01-29T23:50:27.823392",
     "status": "completed"
    },
    "tags": []
   },
   "outputs": [],
   "source": [
    "from torch.utils.data import Dataset\n",
    "\n",
    "class ImgDataset(Dataset):\n",
    "    def __init__(self, imgs, labels, transform=None):\n",
    "        self.labels = labels # pd Series\n",
    "        self.imgs = imgs # array?\n",
    "        self.transform = transform\n",
    "        \n",
    "    def __len__(self):\n",
    "        return len(self.labels)\n",
    "    \n",
    "    def __getitem__(self, idx):\n",
    "        label = self.labels[idx]\n",
    "        if self.transform:\n",
    "            image = transform(self.imgs[idx])\n",
    "        return image, label"
   ]
  },
  {
   "cell_type": "code",
   "execution_count": 6,
   "id": "d4857bfc",
   "metadata": {
    "execution": {
     "iopub.execute_input": "2023-01-29T23:50:27.845396Z",
     "iopub.status.busy": "2023-01-29T23:50:27.845112Z",
     "iopub.status.idle": "2023-01-29T23:50:27.853525Z",
     "shell.execute_reply": "2023-01-29T23:50:27.852686Z"
    },
    "papermill": {
     "duration": 0.014884,
     "end_time": "2023-01-29T23:50:27.855570",
     "exception": false,
     "start_time": "2023-01-29T23:50:27.840686",
     "status": "completed"
    },
    "tags": []
   },
   "outputs": [],
   "source": [
    "from torch.utils.data import random_split\n",
    "\n",
    "train_data = ImgDataset(X,y, transform=True)\n",
    "\n",
    "size = 0.1\n",
    "v_size = round(len(train_data)*size)\n",
    "t_size = len(train_data) - v_size\n",
    "\n",
    "train_set, valid_set = random_split(train_data, [t_size, v_size])"
   ]
  },
  {
   "cell_type": "code",
   "execution_count": 7,
   "id": "c3891f73",
   "metadata": {
    "execution": {
     "iopub.execute_input": "2023-01-29T23:50:27.863845Z",
     "iopub.status.busy": "2023-01-29T23:50:27.863570Z",
     "iopub.status.idle": "2023-01-29T23:50:27.869753Z",
     "shell.execute_reply": "2023-01-29T23:50:27.868895Z"
    },
    "papermill": {
     "duration": 0.0128,
     "end_time": "2023-01-29T23:50:27.871931",
     "exception": false,
     "start_time": "2023-01-29T23:50:27.859131",
     "status": "completed"
    },
    "tags": []
   },
   "outputs": [],
   "source": [
    "from torch.utils.data import DataLoader\n",
    "\n",
    "batch_size=64\n",
    "\n",
    "dl = DataLoader(train_data, batch_size=batch_size, shuffle=True)\n",
    "valid_dl = DataLoader(valid_set, batch_size=batch_size, shuffle=True)"
   ]
  },
  {
   "cell_type": "code",
   "execution_count": 8,
   "id": "9354dab9",
   "metadata": {
    "execution": {
     "iopub.execute_input": "2023-01-29T23:50:27.880033Z",
     "iopub.status.busy": "2023-01-29T23:50:27.879770Z",
     "iopub.status.idle": "2023-01-29T23:50:27.888311Z",
     "shell.execute_reply": "2023-01-29T23:50:27.887388Z"
    },
    "papermill": {
     "duration": 0.01498,
     "end_time": "2023-01-29T23:50:27.890362",
     "exception": false,
     "start_time": "2023-01-29T23:50:27.875382",
     "status": "completed"
    },
    "tags": []
   },
   "outputs": [],
   "source": [
    "class CNN(nn.Module):\n",
    "\n",
    "    def __init__(self, out_1 = 32, out_2 = 64, n_classes = 10):\n",
    "        super(CNN, self).__init__()\n",
    "        self.bn1 = nn.BatchNorm2d(32, eps=1e-07, momentum=0.9, affine=True)\n",
    "        self.bn2 = nn.BatchNorm2d(64, eps=1e-07, momentum=0.9, affine=True)\n",
    "\n",
    "        self.cnn1 = nn.Conv2d(1, 32, kernel_size = 3, padding = 1)\n",
    "        self.maxpool1 = nn.MaxPool2d(kernel_size = 2)\n",
    "        \n",
    "        self.cnn2 = nn.Conv2d(32, 64, kernel_size = 3, padding = 1)\n",
    "        self.maxpool2 = nn.MaxPool2d(kernel_size = 2)\n",
    "        self.fc1 = nn.Linear(out_2 * 7 * 7, n_classes)\n",
    "        \n",
    "    def forward(self, x):\n",
    "        x = self.cnn1(x)\n",
    "        x = self.bn1(x)\n",
    "        x = torch.relu(x)\n",
    "        x = self.maxpool1(x)\n",
    "        x = self.cnn2(x)\n",
    "        x = self.bn2(x)\n",
    "        x = torch.relu(x)\n",
    "        x = self.maxpool2(x)\n",
    "        x = x.view(x.size(0), -1)\n",
    "        x = self.fc1(x)\n",
    "        return(x)"
   ]
  },
  {
   "cell_type": "code",
   "execution_count": 9,
   "id": "a54d03f8",
   "metadata": {
    "execution": {
     "iopub.execute_input": "2023-01-29T23:50:27.898759Z",
     "iopub.status.busy": "2023-01-29T23:50:27.898496Z",
     "iopub.status.idle": "2023-01-29T23:50:27.905330Z",
     "shell.execute_reply": "2023-01-29T23:50:27.904489Z"
    },
    "papermill": {
     "duration": 0.013552,
     "end_time": "2023-01-29T23:50:27.907498",
     "exception": false,
     "start_time": "2023-01-29T23:50:27.893946",
     "status": "completed"
    },
    "tags": []
   },
   "outputs": [],
   "source": [
    "def train_epoch(model):\n",
    "    size = len(dl.dataset)\n",
    "    for batch, (X,y) in enumerate(dl):\n",
    "        X = X.to(device)\n",
    "        y = y.to(device)\n",
    "\n",
    "        optimizer.zero_grad()\n",
    "        \n",
    "        pred = model(X)\n",
    "        loss = loss_fn(pred, y)\n",
    "        \n",
    "        loss.backward()\n",
    "        optimizer.step()\n",
    "        \n",
    "        if batch % 100 == 0:\n",
    "            loss, current = loss.item(), batch * len(X)\n",
    "            print(f\"loss: {loss:>7f}  [{current:>5d}/{size:>5d}]\")"
   ]
  },
  {
   "cell_type": "code",
   "execution_count": 10,
   "id": "9a13dbe5",
   "metadata": {
    "execution": {
     "iopub.execute_input": "2023-01-29T23:50:27.915511Z",
     "iopub.status.busy": "2023-01-29T23:50:27.915222Z",
     "iopub.status.idle": "2023-01-29T23:50:27.922367Z",
     "shell.execute_reply": "2023-01-29T23:50:27.921473Z"
    },
    "papermill": {
     "duration": 0.013457,
     "end_time": "2023-01-29T23:50:27.924416",
     "exception": false,
     "start_time": "2023-01-29T23:50:27.910959",
     "status": "completed"
    },
    "tags": []
   },
   "outputs": [],
   "source": [
    "def validate_epoch(model):\n",
    "    size = len(valid_dl.dataset)\n",
    "    num_batches = len(valid_dl)\n",
    "    test_loss, correct = 0, 0\n",
    "    \n",
    "    with torch.no_grad():\n",
    "        for (X, y) in valid_dl:\n",
    "            X = X.to(device)\n",
    "            y = y.to(device)\n",
    "            \n",
    "            pred = model(X)\n",
    "            test_loss += loss_fn(pred, y).item()\n",
    "            correct += (pred.argmax(1) == y).type(torch.float).sum().item()\n",
    "            \n",
    "    test_loss /= num_batches\n",
    "    correct /= size\n",
    "    print(f\"Test Error: \\n Accuracy: {(100*correct):>0.1f}%, Avg loss: {test_loss:>8f} \\n\") "
   ]
  },
  {
   "cell_type": "code",
   "execution_count": 11,
   "id": "8fcc8c73",
   "metadata": {
    "execution": {
     "iopub.execute_input": "2023-01-29T23:50:27.932758Z",
     "iopub.status.busy": "2023-01-29T23:50:27.932415Z",
     "iopub.status.idle": "2023-01-29T23:50:27.938835Z",
     "shell.execute_reply": "2023-01-29T23:50:27.937901Z"
    },
    "papermill": {
     "duration": 0.012883,
     "end_time": "2023-01-29T23:50:27.940865",
     "exception": false,
     "start_time": "2023-01-29T23:50:27.927982",
     "status": "completed"
    },
    "tags": []
   },
   "outputs": [],
   "source": [
    "def train_model(model,n_epochs):\n",
    "    model = model.to(device)\n",
    "    for i in range(n_epochs):\n",
    "        print(f\"Epoch {i+1}\\n-------------------------------\")\n",
    "        train_epoch(model)\n",
    "        validate_epoch(model)\n",
    "    print(\"Done.\")"
   ]
  },
  {
   "cell_type": "code",
   "execution_count": 12,
   "id": "a4e701f5",
   "metadata": {
    "execution": {
     "iopub.execute_input": "2023-01-29T23:50:27.949026Z",
     "iopub.status.busy": "2023-01-29T23:50:27.948761Z",
     "iopub.status.idle": "2023-01-29T23:50:51.575570Z",
     "shell.execute_reply": "2023-01-29T23:50:51.574404Z"
    },
    "papermill": {
     "duration": 23.633927,
     "end_time": "2023-01-29T23:50:51.578461",
     "exception": false,
     "start_time": "2023-01-29T23:50:27.944534",
     "status": "completed"
    },
    "tags": []
   },
   "outputs": [
    {
     "name": "stdout",
     "output_type": "stream",
     "text": [
      "Epoch 1\n",
      "-------------------------------\n",
      "loss: 2.492639  [    0/42000]\n",
      "loss: 0.127387  [ 6400/42000]\n",
      "loss: 0.188000  [12800/42000]\n",
      "loss: 0.099720  [19200/42000]\n",
      "loss: 0.046386  [25600/42000]\n",
      "loss: 0.108827  [32000/42000]\n",
      "loss: 0.108965  [38400/42000]\n",
      "Test Error: \n",
      " Accuracy: 98.4%, Avg loss: 0.062105 \n",
      "\n",
      "Epoch 2\n",
      "-------------------------------\n",
      "loss: 0.069140  [    0/42000]\n",
      "loss: 0.050318  [ 6400/42000]\n",
      "loss: 0.025626  [12800/42000]\n",
      "loss: 0.067703  [19200/42000]\n",
      "loss: 0.017372  [25600/42000]\n",
      "loss: 0.034434  [32000/42000]\n",
      "loss: 0.033495  [38400/42000]\n",
      "Test Error: \n",
      " Accuracy: 98.8%, Avg loss: 0.041585 \n",
      "\n",
      "Epoch 3\n",
      "-------------------------------\n",
      "loss: 0.192365  [    0/42000]\n",
      "loss: 0.064960  [ 6400/42000]\n",
      "loss: 0.090719  [12800/42000]\n",
      "loss: 0.027938  [19200/42000]\n",
      "loss: 0.009364  [25600/42000]\n",
      "loss: 0.009781  [32000/42000]\n",
      "loss: 0.035066  [38400/42000]\n",
      "Test Error: \n",
      " Accuracy: 98.8%, Avg loss: 0.040213 \n",
      "\n",
      "Done.\n"
     ]
    }
   ],
   "source": [
    "lr = 0.003\n",
    "n_epochs = 3\n",
    "momentum = 0.9\n",
    "\n",
    "model = CNN()\n",
    "\n",
    "loss_fn = nn.CrossEntropyLoss()\n",
    "optimizer = optim.SGD(model.parameters(), lr=lr, momentum=momentum)\n",
    "\n",
    "train_model(model,n_epochs)"
   ]
  },
  {
   "cell_type": "markdown",
   "id": "a70b1338",
   "metadata": {
    "papermill": {
     "duration": 0.004666,
     "end_time": "2023-01-29T23:50:51.588363",
     "exception": false,
     "start_time": "2023-01-29T23:50:51.583697",
     "status": "completed"
    },
    "tags": []
   },
   "source": [
    "# Testing"
   ]
  },
  {
   "cell_type": "code",
   "execution_count": 13,
   "id": "52d42ef6",
   "metadata": {
    "execution": {
     "iopub.execute_input": "2023-01-29T23:50:51.598713Z",
     "iopub.status.busy": "2023-01-29T23:50:51.598374Z",
     "iopub.status.idle": "2023-01-29T23:51:17.531572Z",
     "shell.execute_reply": "2023-01-29T23:51:17.530613Z"
    },
    "papermill": {
     "duration": 25.941195,
     "end_time": "2023-01-29T23:51:17.534074",
     "exception": false,
     "start_time": "2023-01-29T23:50:51.592879",
     "status": "completed"
    },
    "tags": []
   },
   "outputs": [],
   "source": [
    "testdata = pd.read_csv(\"/kaggle/input/digit-recognizer/test.csv\")\n",
    "\n",
    "testdata = testdata.values.reshape(-1,1,28,28)\n",
    "testdata = torch.Tensor(testdata)\n",
    "\n",
    "submission = pd.read_csv(\"/kaggle/input/digit-recognizer/sample_submission.csv\")\n",
    "\n",
    "model.to(device)\n",
    "\n",
    "for i, test in enumerate(DataLoader(testdata, batch_size=1)):\n",
    "    test = test.to(device)\n",
    "    model.eval()\n",
    "    _,pred = torch.max(model(test),1)\n",
    "    submission[\"Label\"][i] = pred.item()\n",
    "    \n",
    "\n",
    "submission.to_csv(\"submission.csv\", index=False)"
   ]
  }
 ],
 "metadata": {
  "kernelspec": {
   "display_name": "Python 3",
   "language": "python",
   "name": "python3"
  },
  "language_info": {
   "codemirror_mode": {
    "name": "ipython",
    "version": 3
   },
   "file_extension": ".py",
   "mimetype": "text/x-python",
   "name": "python",
   "nbconvert_exporter": "python",
   "pygments_lexer": "ipython3",
   "version": "3.7.12"
  },
  "papermill": {
   "default_parameters": {},
   "duration": 63.650976,
   "end_time": "2023-01-29T23:51:18.963579",
   "environment_variables": {},
   "exception": null,
   "input_path": "__notebook__.ipynb",
   "output_path": "__notebook__.ipynb",
   "parameters": {},
   "start_time": "2023-01-29T23:50:15.312603",
   "version": "2.3.4"
  }
 },
 "nbformat": 4,
 "nbformat_minor": 5
}
